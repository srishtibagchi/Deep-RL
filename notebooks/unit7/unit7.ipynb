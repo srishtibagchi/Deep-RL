{
 "cells": [
  {
   "cell_type": "markdown",
   "metadata": {},
   "source": [
    "# Unit 7: Introduction to Multi-Agents and AI vs. AI\n",
    "\n",
    "Instructions and course pages can be found here: \n",
    "\n",
    "https://huggingface.co/learn/deep-rl-course/en/unit7/hands-on\n",
    "\n",
    "## Environments\n",
    "\n",
    "- SoccerTwos\n",
    "\n",
    "## RL Libraries\n",
    "\n",
    "- ML-Agents\n",
    "\n",
    "## Objectives\n",
    "\n",
    "Training soccer game agents to play 2v2 soccer using the MA-POCA (Multi-Agent POsthumous Credit Assignment) trainer."
   ]
  },
  {
   "cell_type": "markdown",
   "metadata": {},
   "source": [
    "## Install ML-Agents"
   ]
  },
  {
   "cell_type": "code",
   "execution_count": null,
   "metadata": {},
   "outputs": [],
   "source": [
    "# create a conda environment with a python version that is compatible with the ML-Agents library\n",
    "!conda create --name rl python=3.10.12\n",
    "!conda activate rl"
   ]
  },
  {
   "cell_type": "code",
   "execution_count": null,
   "metadata": {},
   "outputs": [],
   "source": [
    "# clone the ML-Agents repository\n",
    "!git clone https://github.com/Unity-Technologies/ml-agents"
   ]
  },
  {
   "cell_type": "code",
   "execution_count": null,
   "metadata": {},
   "outputs": [],
   "source": [
    "%cd ml-agents\n",
    "# install the library and its dependencies\n",
    "!pip install -e ./ml-agents-envs\n",
    "!pip install -e ./ml-agents"
   ]
  },
  {
   "cell_type": "code",
   "execution_count": null,
   "metadata": {},
   "outputs": [],
   "source": [
    "# install git-lfs\n",
    "# download the training executable and place it into a new folder called training-envs-executables\n",
    "# the executable should be here: ml-agents/training-envs-executables/SoccerTwos"
   ]
  },
  {
   "cell_type": "markdown",
   "metadata": {},
   "source": [
    "## Understanding SoccerTwos Environment\n",
    "\n",
    "This is a Unity MLAgents environment. The objective is to move the ball into the opponent team's goal and to prevent the ball from entering into your goal. There are two agents on your team and two agents on the opposing team.\n",
    "\n",
    "### Reward Function\n",
    "\n",
    "- If the ball enters the opponent team's goal, earn +(1 - time penalty) points.\n",
    "- If the ball enters your own goal, earn -1 points.\n",
    "\n",
    "### Observation Space\n",
    "\n",
    "Vectors of size (336,) involving forward- and backward-facing ray-casts to detect the ball, goals, walls, and other agents.\n",
    "\n",
    "### Action Space\n",
    "\n",
    "Forward and backward motions, sideways motions, and rotations."
   ]
  },
  {
   "cell_type": "markdown",
   "metadata": {},
   "source": [
    "## Understanding Training Hyperparameters\n",
    "\n",
    "Hyperparameters are defined in `ml-agents/config/poca/SoccerTwos.yaml`.\n",
    "\n",
    "Documentation on hyperparameters from the Unity team can be found [here](https://github.com/Unity-Technologies/ml-agents/blob/release_20_docs/docs/Training-Configuration-File.md)."
   ]
  },
  {
   "cell_type": "markdown",
   "metadata": {},
   "source": [
    "## Training the Agents"
   ]
  },
  {
   "cell_type": "code",
   "execution_count": null,
   "metadata": {},
   "outputs": [],
   "source": [
    "!mlagents-learn ./config/poca/SoccerTwos.yaml --env=./training-envs-executables/SoccerTwos.exe --run-id=\"SoccerTwos\" --no-graphics"
   ]
  },
  {
   "cell_type": "markdown",
   "metadata": {},
   "source": [
    "## Uploading Trained Agents to Hugging Face"
   ]
  },
  {
   "cell_type": "code",
   "execution_count": null,
   "metadata": {},
   "outputs": [],
   "source": [
    "!huggingface-cli login"
   ]
  },
  {
   "cell_type": "code",
   "execution_count": null,
   "metadata": {},
   "outputs": [],
   "source": [
    "!mlagents-push-to-hf  --run-id=\"SoccerTwos\" --local-dir=\"./results/SoccerTwos\" --repo-id=\"srishtibagchi/poca-SoccerTwos\" --commit-message=\"First commit\""
   ]
  }
 ],
 "metadata": {
  "kernelspec": {
   "display_name": "Python 3",
   "language": "python",
   "name": "python3"
  },
  "language_info": {
   "codemirror_mode": {
    "name": "ipython",
    "version": 3
   },
   "file_extension": ".py",
   "mimetype": "text/x-python",
   "name": "python",
   "nbconvert_exporter": "python",
   "pygments_lexer": "ipython3",
   "version": "3.12.9"
  }
 },
 "nbformat": 4,
 "nbformat_minor": 2
}
